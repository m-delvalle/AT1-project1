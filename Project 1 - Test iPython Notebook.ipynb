{
 "cells": [
  {
   "cell_type": "markdown",
   "metadata": {},
   "source": [
    "# iPython Notebook"
   ]
  },
  {
   "cell_type": "markdown",
   "metadata": {},
   "source": [
    "## Testing the notebook"
   ]
  },
  {
   "cell_type": "markdown",
   "metadata": {},
   "source": [
    "We want to know what this software is capable of, so we simply.. test it! :)"
   ]
  },
  {
   "cell_type": "code",
   "execution_count": 5,
   "metadata": {
    "collapsed": true
   },
   "outputs": [],
   "source": [
    "import random"
   ]
  },
  {
   "cell_type": "code",
   "execution_count": 10,
   "metadata": {
    "collapsed": true
   },
   "outputs": [],
   "source": [
    "# --------------- foobar Function ---------------\n",
    "def foobar(name='Sean'):\n",
    "    \"\"\"\n",
    "    Produces foos and bars on the console, in order\n",
    "    to make the world a better, more explicit place.\n",
    "    \n",
    "    :param name: the person we want to foobar\n",
    "    :type name: str\n",
    "    \n",
    "    :return: nothin. Prints foos and bars to console\n",
    "    :rtype: None\n",
    "    \"\"\"\n",
    "    print \"Hi {}!\".format(name)\n",
    "    for _ in xrange(len(name)):\n",
    "        if random.random() < 0.5:\n",
    "            print \"foo\"\n",
    "        else:\n",
    "            print \"bar\"\n",
    "    return"
   ]
  },
  {
   "cell_type": "code",
   "execution_count": 11,
   "metadata": {
    "collapsed": false
   },
   "outputs": [
    {
     "name": "stdout",
     "output_type": "stream",
     "text": [
      "Hi Manu!\n",
      "bar\n",
      "foo\n",
      "bar\n",
      "bar\n"
     ]
    }
   ],
   "source": [
    "foobar(\"Manu\")"
   ]
  },
  {
   "cell_type": "markdown",
   "metadata": {},
   "source": [
    "Wow! that was pretty cool..! ;)"
   ]
  }
 ],
 "metadata": {
  "kernelspec": {
   "display_name": "Python 2",
   "language": "python",
   "name": "python2"
  },
  "language_info": {
   "codemirror_mode": {
    "name": "ipython",
    "version": 2
   },
   "file_extension": ".py",
   "mimetype": "text/x-python",
   "name": "python",
   "nbconvert_exporter": "python",
   "pygments_lexer": "ipython2",
   "version": "2.7.9"
  }
 },
 "nbformat": 4,
 "nbformat_minor": 0
}
